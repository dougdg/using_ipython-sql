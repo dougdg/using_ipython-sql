{
 "cells": [
  {
   "cell_type": "markdown",
   "metadata": {},
   "source": [
    "# Utilizando o %sql Magic do Jupyter Notebook com o banco de dados IBM Db2"
   ]
  },
  {
   "cell_type": "markdown",
   "metadata": {},
   "source": [
    "## 1 - Configuração e Integração do IBM Db2 e IPython SQL"
   ]
  },
  {
   "cell_type": "markdown",
   "metadata": {},
   "source": [
    "### 1.1 Instalação de pacotes necessários"
   ]
  },
  {
   "cell_type": "code",
   "execution_count": 1,
   "metadata": {},
   "outputs": [
    {
     "name": "stdout",
     "output_type": "stream",
     "text": [
      "Collecting ipython-sql\n",
      "  Downloading https://files.pythonhosted.org/packages/ab/df/427e7cf05ffc67e78672ad57dce2436c1e825129033effe6fcaf804d0c60/ipython_sql-0.3.9-py2.py3-none-any.whl\n",
      "Collecting prettytable (from ipython-sql)\n",
      "  Downloading https://files.pythonhosted.org/packages/ef/30/4b0746848746ed5941f052479e7c23d2b56d174b82f4fd34a25e389831f5/prettytable-0.7.2.tar.bz2\n",
      "Requirement not upgraded as not directly required: ipython>=1.0 in /opt/conda/envs/DSX-Python35/lib/python3.5/site-packages (from ipython-sql)\n",
      "Collecting sqlparse (from ipython-sql)\n",
      "  Downloading https://files.pythonhosted.org/packages/65/85/20bdd72f4537cf2c4d5d005368d502b2f464ede22982e724a82c86268eda/sqlparse-0.2.4-py2.py3-none-any.whl\n",
      "Requirement not upgraded as not directly required: ipython-genutils>=0.1.0 in /opt/conda/envs/DSX-Python35/lib/python3.5/site-packages (from ipython-sql)\n",
      "Requirement not upgraded as not directly required: six in /opt/conda/envs/DSX-Python35/lib/python3.5/site-packages (from ipython-sql)\n",
      "Requirement not upgraded as not directly required: sqlalchemy>=0.6.7 in /opt/conda/envs/DSX-Python35/lib/python3.5/site-packages (from ipython-sql)\n",
      "Requirement not upgraded as not directly required: setuptools>=18.5 in /opt/conda/envs/DSX-Python35/lib/python3.5/site-packages (from ipython>=1.0->ipython-sql)\n",
      "Requirement not upgraded as not directly required: jedi>=0.10 in /opt/conda/envs/DSX-Python35/lib/python3.5/site-packages (from ipython>=1.0->ipython-sql)\n",
      "Requirement not upgraded as not directly required: decorator in /opt/conda/envs/DSX-Python35/lib/python3.5/site-packages (from ipython>=1.0->ipython-sql)\n",
      "Requirement not upgraded as not directly required: pickleshare in /opt/conda/envs/DSX-Python35/lib/python3.5/site-packages (from ipython>=1.0->ipython-sql)\n",
      "Requirement not upgraded as not directly required: simplegeneric>0.8 in /opt/conda/envs/DSX-Python35/lib/python3.5/site-packages (from ipython>=1.0->ipython-sql)\n",
      "Requirement not upgraded as not directly required: traitlets>=4.2 in /opt/conda/envs/DSX-Python35/lib/python3.5/site-packages (from ipython>=1.0->ipython-sql)\n",
      "Requirement not upgraded as not directly required: prompt_toolkit<2.0.0,>=1.0.4 in /opt/conda/envs/DSX-Python35/lib/python3.5/site-packages (from ipython>=1.0->ipython-sql)\n",
      "Requirement not upgraded as not directly required: pygments in /opt/conda/envs/DSX-Python35/lib/python3.5/site-packages (from ipython>=1.0->ipython-sql)\n",
      "Requirement not upgraded as not directly required: pexpect in /opt/conda/envs/DSX-Python35/lib/python3.5/site-packages (from ipython>=1.0->ipython-sql)\n",
      "Requirement not upgraded as not directly required: wcwidth in /opt/conda/envs/DSX-Python35/lib/python3.5/site-packages (from prompt_toolkit<2.0.0,>=1.0.4->ipython>=1.0->ipython-sql)\n",
      "Building wheels for collected packages: prettytable\n",
      "  Running setup.py bdist_wheel for prettytable ... \u001b[?25ldone\n",
      "\u001b[?25h  Stored in directory: /home/dsxuser/.cache/pip/wheels/80/34/1c/3967380d9676d162cb59513bd9dc862d0584e045a162095606\n",
      "Successfully built prettytable\n",
      "Installing collected packages: prettytable, sqlparse, ipython-sql\n",
      "Successfully installed ipython-sql-0.3.9 prettytable-0.7.2 sqlparse-0.2.4\n"
     ]
    }
   ],
   "source": [
    "# A instalação de dependências é feita por meio do '!pip install --user <nome do pacote>'\n",
    "\n",
    "!pip install --user ipython-sql"
   ]
  },
  {
   "cell_type": "markdown",
   "metadata": {},
   "source": [
    "### 1.2 Carregamento do IPhython SQL"
   ]
  },
  {
   "cell_type": "code",
   "execution_count": 3,
   "metadata": {},
   "outputs": [],
   "source": [
    "# O carregamento é realizado por meio do \"Jupyter Magic\" '%load_ext'\n",
    "\n",
    "%load_ext sql"
   ]
  },
  {
   "cell_type": "markdown",
   "metadata": {},
   "source": [
    "### 1.3 Conexão com o banco de dados IBM Db2"
   ]
  },
  {
   "cell_type": "code",
   "execution_count": 4,
   "metadata": {},
   "outputs": [
    {
     "data": {
      "text/plain": [
       "'Connected: tzf53284@BLUDB'"
      ]
     },
     "execution_count": 4,
     "metadata": {},
     "output_type": "execute_result"
    }
   ],
   "source": [
    "# Complete o comando abaixo conforme suas credenciais de serviço do IBM Db2 instanciado\n",
    "# %sql ibm_db_sa://my-username:my-password@my-hostname:my-port/my-db-name\n",
    "\n",
    "%sql ibm_db_sa://tzf53284:x0m3zg20dtd^jx6d@dashdb-txn-sbox-yp-dal09-03.services.dal.bluemix.net:50000/BLUDB"
   ]
  },
  {
   "cell_type": "markdown",
   "metadata": {},
   "source": [
    "## 2 - Exemplos de Queries"
   ]
  },
  {
   "cell_type": "markdown",
   "metadata": {},
   "source": [
    "### 2.1 Capturar lista de todas as tabelas armazenadas em um schema no IBM Db2"
   ]
  },
  {
   "cell_type": "code",
   "execution_count": 5,
   "metadata": {},
   "outputs": [
    {
     "name": "stdout",
     "output_type": "stream",
     "text": [
      " * ibm_db_sa://tzf53284:***@dashdb-txn-sbox-yp-dal09-03.services.dal.bluemix.net:50000/BLUDB\n",
      "Done.\n"
     ]
    },
    {
     "data": {
      "text/html": [
       "<table>\n",
       "    <tr>\n",
       "        <th>tabschema</th>\n",
       "        <th>tabname</th>\n",
       "        <th>create_time</th>\n",
       "    </tr>\n",
       "    <tr>\n",
       "        <td>TZF53284</td>\n",
       "        <td>CHICAGO_CRIME_DATA</td>\n",
       "        <td>2018-08-01 21:48:12.803031</td>\n",
       "    </tr>\n",
       "    <tr>\n",
       "        <td>TZF53284</td>\n",
       "        <td>CHICAGO_PUBLIC_SCHOOLS</td>\n",
       "        <td>2018-08-01 21:49:06.513296</td>\n",
       "    </tr>\n",
       "    <tr>\n",
       "        <td>TZF53284</td>\n",
       "        <td>CENSUS_DATA</td>\n",
       "        <td>2018-08-01 21:49:53.087152</td>\n",
       "    </tr>\n",
       "</table>"
      ],
      "text/plain": [
       "[('TZF53284', 'CHICAGO_CRIME_DATA', datetime.datetime(2018, 8, 1, 21, 48, 12, 803031)),\n",
       " ('TZF53284', 'CHICAGO_PUBLIC_SCHOOLS', datetime.datetime(2018, 8, 1, 21, 49, 6, 513296)),\n",
       " ('TZF53284', 'CENSUS_DATA', datetime.datetime(2018, 8, 1, 21, 49, 53, 87152))]"
      ]
     },
     "execution_count": 5,
     "metadata": {},
     "output_type": "execute_result"
    }
   ],
   "source": [
    "%sql select TABSCHEMA, TABNAME, CREATE_TIME from SYSCAT.TABLES where TABSCHEMA='TZF53284'"
   ]
  },
  {
   "cell_type": "markdown",
   "metadata": {},
   "source": [
    "### 2.2 Capturar informações sobre uma tabela específica no IBM Db2"
   ]
  },
  {
   "cell_type": "code",
   "execution_count": 6,
   "metadata": {},
   "outputs": [
    {
     "name": "stdout",
     "output_type": "stream",
     "text": [
      " * ibm_db_sa://tzf53284:***@dashdb-txn-sbox-yp-dal09-03.services.dal.bluemix.net:50000/BLUDB\n",
      "Done.\n"
     ]
    },
    {
     "data": {
      "text/html": [
       "<table>\n",
       "    <tr>\n",
       "        <th>tabschema</th>\n",
       "        <th>tabname</th>\n",
       "        <th>owner</th>\n",
       "        <th>ownertype</th>\n",
       "        <th>TYPE</th>\n",
       "        <th>status</th>\n",
       "        <th>base_tabschema</th>\n",
       "        <th>base_tabname</th>\n",
       "        <th>rowtypeschema</th>\n",
       "        <th>rowtypename</th>\n",
       "        <th>create_time</th>\n",
       "        <th>alter_time</th>\n",
       "        <th>invalidate_time</th>\n",
       "        <th>stats_time</th>\n",
       "        <th>colcount</th>\n",
       "        <th>tableid</th>\n",
       "        <th>tbspaceid</th>\n",
       "        <th>card</th>\n",
       "        <th>npages</th>\n",
       "        <th>mpages</th>\n",
       "        <th>fpages</th>\n",
       "        <th>npartitions</th>\n",
       "        <th>nfiles</th>\n",
       "        <th>tablesize</th>\n",
       "        <th>overflow</th>\n",
       "        <th>tbspace</th>\n",
       "        <th>index_tbspace</th>\n",
       "        <th>long_tbspace</th>\n",
       "        <th>parents</th>\n",
       "        <th>children</th>\n",
       "        <th>selfrefs</th>\n",
       "        <th>keycolumns</th>\n",
       "        <th>keyindexid</th>\n",
       "        <th>keyunique</th>\n",
       "        <th>checkcount</th>\n",
       "        <th>datacapture</th>\n",
       "        <th>const_checked</th>\n",
       "        <th>pmap_id</th>\n",
       "        <th>partition_mode</th>\n",
       "        <th>log_attribute</th>\n",
       "        <th>pctfree</th>\n",
       "        <th>append_mode</th>\n",
       "        <th>REFRESH</th>\n",
       "        <th>refresh_time</th>\n",
       "        <th>LOCKSIZE</th>\n",
       "        <th>VOLATILE</th>\n",
       "        <th>row_format</th>\n",
       "        <th>property</th>\n",
       "        <th>statistics_profile</th>\n",
       "        <th>compression</th>\n",
       "        <th>rowcompmode</th>\n",
       "        <th>access_mode</th>\n",
       "        <th>clustered</th>\n",
       "        <th>active_blocks</th>\n",
       "        <th>droprule</th>\n",
       "        <th>maxfreespacesearch</th>\n",
       "        <th>avgcompressedrowsize</th>\n",
       "        <th>avgrowcompressionratio</th>\n",
       "        <th>avgrowsize</th>\n",
       "        <th>pctrowscompressed</th>\n",
       "        <th>logindexbuild</th>\n",
       "        <th>codepage</th>\n",
       "        <th>collationschema</th>\n",
       "        <th>collationname</th>\n",
       "        <th>collationschema_orderby</th>\n",
       "        <th>collationname_orderby</th>\n",
       "        <th>encoding_scheme</th>\n",
       "        <th>pctpagessaved</th>\n",
       "        <th>last_regen_time</th>\n",
       "        <th>secpolicyid</th>\n",
       "        <th>protectiongranularity</th>\n",
       "        <th>auditpolicyid</th>\n",
       "        <th>auditpolicyname</th>\n",
       "        <th>auditexceptionenabled</th>\n",
       "        <th>definer</th>\n",
       "        <th>oncommit</th>\n",
       "        <th>logged</th>\n",
       "        <th>onrollback</th>\n",
       "        <th>lastused</th>\n",
       "        <th>control</th>\n",
       "        <th>temporaltype</th>\n",
       "        <th>tableorg</th>\n",
       "        <th>extended_row_size</th>\n",
       "        <th>pctextendedrows</th>\n",
       "        <th>remarks</th>\n",
       "    </tr>\n",
       "    <tr>\n",
       "        <td>TZF53284</td>\n",
       "        <td>CHICAGO_CRIME_DATA</td>\n",
       "        <td>TZF53284</td>\n",
       "        <td>U</td>\n",
       "        <td>T</td>\n",
       "        <td>N</td>\n",
       "        <td>None</td>\n",
       "        <td>None</td>\n",
       "        <td>None</td>\n",
       "        <td>None</td>\n",
       "        <td>2018-08-01 21:48:12.803031</td>\n",
       "        <td>2018-08-01 21:48:12.803031</td>\n",
       "        <td>2018-08-01 21:48:12.803031</td>\n",
       "        <td>2018-08-03 00:10:23.305692</td>\n",
       "        <td>22</td>\n",
       "        <td>4</td>\n",
       "        <td>11</td>\n",
       "        <td>533</td>\n",
       "        <td>5</td>\n",
       "        <td>0</td>\n",
       "        <td>6</td>\n",
       "        <td>-1</td>\n",
       "        <td>-1</td>\n",
       "        <td>-1</td>\n",
       "        <td>0</td>\n",
       "        <td>tzf53284space1</td>\n",
       "        <td>None</td>\n",
       "        <td>None</td>\n",
       "        <td>0</td>\n",
       "        <td>0</td>\n",
       "        <td>0</td>\n",
       "        <td>0</td>\n",
       "        <td>0</td>\n",
       "        <td>0</td>\n",
       "        <td>0</td>\n",
       "        <td>N</td>\n",
       "        <td>YYYYYYYYYYYYYYYYYYYYYYYYYYYYYYYY</td>\n",
       "        <td>1</td>\n",
       "        <td> </td>\n",
       "        <td>0</td>\n",
       "        <td>-1</td>\n",
       "        <td>N</td>\n",
       "        <td> </td>\n",
       "        <td>None</td>\n",
       "        <td>R</td>\n",
       "        <td> </td>\n",
       "        <td>N</td>\n",
       "        <td>&nbsp;&nbsp;&nbsp;&nbsp;&nbsp;&nbsp;&nbsp;&nbsp;&nbsp;&nbsp;&nbsp;&nbsp;&nbsp;&nbsp;&nbsp;&nbsp;&nbsp;&nbsp;&nbsp;&nbsp;&nbsp;&nbsp;&nbsp;&nbsp;&nbsp;&nbsp;&nbsp;&nbsp;&nbsp;&nbsp;&nbsp;&nbsp;</td>\n",
       "        <td>None</td>\n",
       "        <td>N</td>\n",
       "        <td> </td>\n",
       "        <td>F</td>\n",
       "        <td>None</td>\n",
       "        <td>0</td>\n",
       "        <td>N</td>\n",
       "        <td>999</td>\n",
       "        <td>0</td>\n",
       "        <td>0.0</td>\n",
       "        <td>291</td>\n",
       "        <td>0.0</td>\n",
       "        <td>None</td>\n",
       "        <td>1208</td>\n",
       "        <td>SYSIBM</td>\n",
       "        <td>IDENTITY</td>\n",
       "        <td>SYSIBM</td>\n",
       "        <td>IDENTITY</td>\n",
       "        <td> </td>\n",
       "        <td>0</td>\n",
       "        <td>2018-08-01 21:48:12.803031</td>\n",
       "        <td>0</td>\n",
       "        <td> </td>\n",
       "        <td>None</td>\n",
       "        <td>None</td>\n",
       "        <td>N</td>\n",
       "        <td>TZF53284</td>\n",
       "        <td> </td>\n",
       "        <td> </td>\n",
       "        <td> </td>\n",
       "        <td>2018-08-04</td>\n",
       "        <td> </td>\n",
       "        <td>N</td>\n",
       "        <td>R</td>\n",
       "        <td>N</td>\n",
       "        <td>-1.0</td>\n",
       "        <td>None</td>\n",
       "    </tr>\n",
       "</table>"
      ],
      "text/plain": [
       "[('TZF53284', 'CHICAGO_CRIME_DATA', 'TZF53284', 'U', 'T', 'N', None, None, None, None, datetime.datetime(2018, 8, 1, 21, 48, 12, 803031), datetime.datetime(2018, 8, 1, 21, 48, 12, 803031), datetime.datetime(2018, 8, 1, 21, 48, 12, 803031), datetime.datetime(2018, 8, 3, 0, 10, 23, 305692), 22, 4, 11, 533, 5, 0, 6, -1, -1, -1, 0, 'tzf53284space1', None, None, 0, 0, 0, 0, 0, 0, 0, 'N', 'YYYYYYYYYYYYYYYYYYYYYYYYYYYYYYYY', 1, ' ', '0', -1, 'N', ' ', None, 'R', ' ', 'N', '                                ', None, 'N', ' ', 'F', None, 0, 'N', 999, 0, 0.0, 291, 0.0, None, 1208, 'SYSIBM', 'IDENTITY', 'SYSIBM', 'IDENTITY', ' ', 0, datetime.datetime(2018, 8, 1, 21, 48, 12, 803031), 0, ' ', None, None, 'N', 'TZF53284', ' ', ' ', ' ', datetime.date(2018, 8, 4), ' ', 'N', 'R', 'N', -1.0, None)]"
      ]
     },
     "execution_count": 6,
     "metadata": {},
     "output_type": "execute_result"
    }
   ],
   "source": [
    "%sql select * from SYSCAT.TABLES where TABNAME = 'CHICAGO_CRIME_DATA'"
   ]
  },
  {
   "cell_type": "markdown",
   "metadata": {},
   "source": [
    "### 2.3 Capturar metadados das colunas de uma tabela específica no IBM Db2"
   ]
  },
  {
   "cell_type": "code",
   "execution_count": 7,
   "metadata": {},
   "outputs": [
    {
     "name": "stdout",
     "output_type": "stream",
     "text": [
      " * ibm_db_sa://tzf53284:***@dashdb-txn-sbox-yp-dal09-03.services.dal.bluemix.net:50000/BLUDB\n",
      "Done.\n"
     ]
    },
    {
     "data": {
      "text/html": [
       "<table>\n",
       "    <tr>\n",
       "        <th>colname</th>\n",
       "        <th>typename</th>\n",
       "        <th>length</th>\n",
       "    </tr>\n",
       "    <tr>\n",
       "        <td>ID</td>\n",
       "        <td>INTEGER</td>\n",
       "        <td>4</td>\n",
       "    </tr>\n",
       "    <tr>\n",
       "        <td>Case_Number</td>\n",
       "        <td>VARCHAR</td>\n",
       "        <td>8</td>\n",
       "    </tr>\n",
       "    <tr>\n",
       "        <td>Date</td>\n",
       "        <td>VARCHAR</td>\n",
       "        <td>22</td>\n",
       "    </tr>\n",
       "    <tr>\n",
       "        <td>Block</td>\n",
       "        <td>VARCHAR</td>\n",
       "        <td>35</td>\n",
       "    </tr>\n",
       "    <tr>\n",
       "        <td>IUCR</td>\n",
       "        <td>VARCHAR</td>\n",
       "        <td>4</td>\n",
       "    </tr>\n",
       "    <tr>\n",
       "        <td>Primary_Type</td>\n",
       "        <td>VARCHAR</td>\n",
       "        <td>33</td>\n",
       "    </tr>\n",
       "    <tr>\n",
       "        <td>Description</td>\n",
       "        <td>VARCHAR</td>\n",
       "        <td>46</td>\n",
       "    </tr>\n",
       "    <tr>\n",
       "        <td>Location_Description</td>\n",
       "        <td>VARCHAR</td>\n",
       "        <td>33</td>\n",
       "    </tr>\n",
       "    <tr>\n",
       "        <td>Arrest</td>\n",
       "        <td>VARCHAR</td>\n",
       "        <td>5</td>\n",
       "    </tr>\n",
       "    <tr>\n",
       "        <td>Domestic</td>\n",
       "        <td>VARCHAR</td>\n",
       "        <td>5</td>\n",
       "    </tr>\n",
       "    <tr>\n",
       "        <td>Beat</td>\n",
       "        <td>SMALLINT</td>\n",
       "        <td>2</td>\n",
       "    </tr>\n",
       "    <tr>\n",
       "        <td>District</td>\n",
       "        <td>DECIMAL</td>\n",
       "        <td>4</td>\n",
       "    </tr>\n",
       "    <tr>\n",
       "        <td>Ward</td>\n",
       "        <td>DECIMAL</td>\n",
       "        <td>4</td>\n",
       "    </tr>\n",
       "    <tr>\n",
       "        <td>Community_Area</td>\n",
       "        <td>DECIMAL</td>\n",
       "        <td>4</td>\n",
       "    </tr>\n",
       "    <tr>\n",
       "        <td>FBI_Code</td>\n",
       "        <td>VARCHAR</td>\n",
       "        <td>3</td>\n",
       "    </tr>\n",
       "    <tr>\n",
       "        <td>X_Coordinate</td>\n",
       "        <td>DECIMAL</td>\n",
       "        <td>9</td>\n",
       "    </tr>\n",
       "    <tr>\n",
       "        <td>Y_Coordinate</td>\n",
       "        <td>DECIMAL</td>\n",
       "        <td>9</td>\n",
       "    </tr>\n",
       "    <tr>\n",
       "        <td>Year</td>\n",
       "        <td>SMALLINT</td>\n",
       "        <td>2</td>\n",
       "    </tr>\n",
       "    <tr>\n",
       "        <td>Updated_On</td>\n",
       "        <td>VARCHAR</td>\n",
       "        <td>22</td>\n",
       "    </tr>\n",
       "    <tr>\n",
       "        <td>Latitude</td>\n",
       "        <td>DECFLOAT</td>\n",
       "        <td>16</td>\n",
       "    </tr>\n",
       "    <tr>\n",
       "        <td>Longitude</td>\n",
       "        <td>DECIMAL</td>\n",
       "        <td>30</td>\n",
       "    </tr>\n",
       "    <tr>\n",
       "        <td>Location</td>\n",
       "        <td>VARCHAR</td>\n",
       "        <td>29</td>\n",
       "    </tr>\n",
       "</table>"
      ],
      "text/plain": [
       "[('ID', 'INTEGER', 4),\n",
       " ('Case_Number', 'VARCHAR', 8),\n",
       " ('Date', 'VARCHAR', 22),\n",
       " ('Block', 'VARCHAR', 35),\n",
       " ('IUCR', 'VARCHAR', 4),\n",
       " ('Primary_Type', 'VARCHAR', 33),\n",
       " ('Description', 'VARCHAR', 46),\n",
       " ('Location_Description', 'VARCHAR', 33),\n",
       " ('Arrest', 'VARCHAR', 5),\n",
       " ('Domestic', 'VARCHAR', 5),\n",
       " ('Beat', 'SMALLINT', 2),\n",
       " ('District', 'DECIMAL', 4),\n",
       " ('Ward', 'DECIMAL', 4),\n",
       " ('Community_Area', 'DECIMAL', 4),\n",
       " ('FBI_Code', 'VARCHAR', 3),\n",
       " ('X_Coordinate', 'DECIMAL', 9),\n",
       " ('Y_Coordinate', 'DECIMAL', 9),\n",
       " ('Year', 'SMALLINT', 2),\n",
       " ('Updated_On', 'VARCHAR', 22),\n",
       " ('Latitude', 'DECFLOAT', 16),\n",
       " ('Longitude', 'DECIMAL', 30),\n",
       " ('Location', 'VARCHAR', 29)]"
      ]
     },
     "execution_count": 7,
     "metadata": {},
     "output_type": "execute_result"
    }
   ],
   "source": [
    "# Query the database system catalog to retrieve column metadata\n",
    "# type in your query to retrieve the number of columns in the SCHOOLS table\n",
    "%sql select COLNAME, TYPENAME, LENGTH from SYSCAT.COLUMNS where TABNAME = 'CHICAGO_CRIME_DATA'"
   ]
  },
  {
   "cell_type": "markdown",
   "metadata": {},
   "source": [
    "### Capturando o número total de linhas para diferentes tabelas no IBM Db2"
   ]
  },
  {
   "cell_type": "code",
   "execution_count": 8,
   "metadata": {},
   "outputs": [
    {
     "name": "stdout",
     "output_type": "stream",
     "text": [
      " * ibm_db_sa://tzf53284:***@dashdb-txn-sbox-yp-dal09-03.services.dal.bluemix.net:50000/BLUDB\n",
      "Done.\n"
     ]
    },
    {
     "data": {
      "text/html": [
       "<table>\n",
       "    <tr>\n",
       "        <th>table_name</th>\n",
       "        <th>Number_of_Records</th>\n",
       "    </tr>\n",
       "    <tr>\n",
       "        <td>CENSUS_DATA</td>\n",
       "        <td>78</td>\n",
       "    </tr>\n",
       "    <tr>\n",
       "        <td>CHICAGO_CRIME_DATA</td>\n",
       "        <td>533</td>\n",
       "    </tr>\n",
       "    <tr>\n",
       "        <td>CHICAGO_PUBLIC_SCHOOLS</td>\n",
       "        <td>566</td>\n",
       "    </tr>\n",
       "</table>"
      ],
      "text/plain": [
       "[('CENSUS_DATA', Decimal('78')),\n",
       " ('CHICAGO_CRIME_DATA', Decimal('533')),\n",
       " ('CHICAGO_PUBLIC_SCHOOLS', Decimal('566'))]"
      ]
     },
     "execution_count": 8,
     "metadata": {},
     "output_type": "execute_result"
    }
   ],
   "source": [
    "%sql SELECT 'CHICAGO_CRIME_DATA' as TABLE_NAME, COUNT(*) as \"Number_of_Records\" FROM CHICAGO_CRIME_DATA \\\n",
    "UNION SELECT 'CENSUS_DATA' as TABLE_NAME, COUNT(*) as \"Number_of_Records\" FROM CENSUS_DATA \\\n",
    "UNION SELECT 'CHICAGO_PUBLIC_SCHOOLS' as TABLE_NAME, COUNT(*) as \"Number_of_Records\" FROM CHICAGO_PUBLIC_SCHOOLS"
   ]
  },
  {
   "cell_type": "markdown",
   "metadata": {},
   "source": [
    "### Capturando a média de college enrollments por community area \n",
    "##### Tabela: CHICAGO_PUBLIC_SCHOOLS"
   ]
  },
  {
   "cell_type": "code",
   "execution_count": 9,
   "metadata": {},
   "outputs": [
    {
     "name": "stdout",
     "output_type": "stream",
     "text": [
      " * ibm_db_sa://tzf53284:***@dashdb-txn-sbox-yp-dal09-03.services.dal.bluemix.net:50000/BLUDB\n",
      "Done.\n"
     ]
    },
    {
     "data": {
      "text/html": [
       "<table>\n",
       "    <tr>\n",
       "        <th>Community_Area_Name</th>\n",
       "        <th>Average_College_Enrollment</th>\n",
       "    </tr>\n",
       "    <tr>\n",
       "        <td>ALBANY PARK</td>\n",
       "        <td>858.000000</td>\n",
       "    </tr>\n",
       "    <tr>\n",
       "        <td>ARCHER HEIGHTS</td>\n",
       "        <td>2411.500000</td>\n",
       "    </tr>\n",
       "    <tr>\n",
       "        <td>ARMOUR SQUARE</td>\n",
       "        <td>486.000000</td>\n",
       "    </tr>\n",
       "    <tr>\n",
       "        <td>ASHBURN</td>\n",
       "        <td>810.375000</td>\n",
       "    </tr>\n",
       "    <tr>\n",
       "        <td>AUBURN GRESHAM</td>\n",
       "        <td>417.500000</td>\n",
       "    </tr>\n",
       "    <tr>\n",
       "        <td>AUSTIN</td>\n",
       "        <td>475.347826</td>\n",
       "    </tr>\n",
       "    <tr>\n",
       "        <td>AVALON PARK</td>\n",
       "        <td>507.333333</td>\n",
       "    </tr>\n",
       "    <tr>\n",
       "        <td>AVONDALE</td>\n",
       "        <td>910.000000</td>\n",
       "    </tr>\n",
       "    <tr>\n",
       "        <td>BELMONT CRAGIN</td>\n",
       "        <td>1198.833333</td>\n",
       "    </tr>\n",
       "    <tr>\n",
       "        <td>BEVERLY</td>\n",
       "        <td>409.000000</td>\n",
       "    </tr>\n",
       "    <tr>\n",
       "        <td>BRIDGEPORT</td>\n",
       "        <td>633.400000</td>\n",
       "    </tr>\n",
       "    <tr>\n",
       "        <td>BRIGHTON PARK</td>\n",
       "        <td>1205.875000</td>\n",
       "    </tr>\n",
       "    <tr>\n",
       "        <td>BURNSIDE</td>\n",
       "        <td>549.000000</td>\n",
       "    </tr>\n",
       "    <tr>\n",
       "        <td>CALUMET HEIGHTS</td>\n",
       "        <td>261.333333</td>\n",
       "    </tr>\n",
       "    <tr>\n",
       "        <td>CHATHAM</td>\n",
       "        <td>560.222222</td>\n",
       "    </tr>\n",
       "    <tr>\n",
       "        <td>CHICAGO LAWN</td>\n",
       "        <td>1012.285714</td>\n",
       "    </tr>\n",
       "    <tr>\n",
       "        <td>CLEARING</td>\n",
       "        <td>521.250000</td>\n",
       "    </tr>\n",
       "    <tr>\n",
       "        <td>DOUGLAS</td>\n",
       "        <td>424.545454</td>\n",
       "    </tr>\n",
       "    <tr>\n",
       "        <td>DUNNING</td>\n",
       "        <td>761.333333</td>\n",
       "    </tr>\n",
       "    <tr>\n",
       "        <td>EAST GARFIELD PARK</td>\n",
       "        <td>410.538461</td>\n",
       "    </tr>\n",
       "    <tr>\n",
       "        <td>EAST SIDE</td>\n",
       "        <td>1061.000000</td>\n",
       "    </tr>\n",
       "    <tr>\n",
       "        <td>EDGEWATER</td>\n",
       "        <td>766.666666</td>\n",
       "    </tr>\n",
       "    <tr>\n",
       "        <td>EDISON PARK</td>\n",
       "        <td>455.000000</td>\n",
       "    </tr>\n",
       "    <tr>\n",
       "        <td>ENGLEWOOD</td>\n",
       "        <td>401.882352</td>\n",
       "    </tr>\n",
       "    <tr>\n",
       "        <td>FOREST GLEN</td>\n",
       "        <td>477.000000</td>\n",
       "    </tr>\n",
       "    <tr>\n",
       "        <td>FULLER PARK</td>\n",
       "        <td>265.500000</td>\n",
       "    </tr>\n",
       "    <tr>\n",
       "        <td>GAGE PARK</td>\n",
       "        <td>991.500000</td>\n",
       "    </tr>\n",
       "    <tr>\n",
       "        <td>GARFIELD RIDGE</td>\n",
       "        <td>910.400000</td>\n",
       "    </tr>\n",
       "    <tr>\n",
       "        <td>GRAND BOULEVARD</td>\n",
       "        <td>351.125000</td>\n",
       "    </tr>\n",
       "    <tr>\n",
       "        <td>GREATER GRAND CROSSING</td>\n",
       "        <td>405.100000</td>\n",
       "    </tr>\n",
       "    <tr>\n",
       "        <td>HEGEWISCH</td>\n",
       "        <td>481.500000</td>\n",
       "    </tr>\n",
       "    <tr>\n",
       "        <td>HERMOSA</td>\n",
       "        <td>993.750000</td>\n",
       "    </tr>\n",
       "    <tr>\n",
       "        <td>HUMBOLDT PARK</td>\n",
       "        <td>663.076923</td>\n",
       "    </tr>\n",
       "    <tr>\n",
       "        <td>HYDE PARK</td>\n",
       "        <td>482.500000</td>\n",
       "    </tr>\n",
       "    <tr>\n",
       "        <td>IRVING PARK</td>\n",
       "        <td>862.666666</td>\n",
       "    </tr>\n",
       "    <tr>\n",
       "        <td>JEFFERSON PARK</td>\n",
       "        <td>877.500000</td>\n",
       "    </tr>\n",
       "    <tr>\n",
       "        <td>KENWOOD</td>\n",
       "        <td>612.428571</td>\n",
       "    </tr>\n",
       "    <tr>\n",
       "        <td>LAKE VIEW</td>\n",
       "        <td>641.363636</td>\n",
       "    </tr>\n",
       "    <tr>\n",
       "        <td>LINCOLN PARK</td>\n",
       "        <td>802.142857</td>\n",
       "    </tr>\n",
       "    <tr>\n",
       "        <td>LINCOLN SQUARE</td>\n",
       "        <td>826.400000</td>\n",
       "    </tr>\n",
       "    <tr>\n",
       "        <td>LOGAN SQUARE</td>\n",
       "        <td>668.272727</td>\n",
       "    </tr>\n",
       "    <tr>\n",
       "        <td>LOOP</td>\n",
       "        <td>871.000000</td>\n",
       "    </tr>\n",
       "    <tr>\n",
       "        <td>LOWER WEST SIDE</td>\n",
       "        <td>659.727272</td>\n",
       "    </tr>\n",
       "    <tr>\n",
       "        <td>MCKINLEY PARK</td>\n",
       "        <td>388.000000</td>\n",
       "    </tr>\n",
       "    <tr>\n",
       "        <td>MONTCLARE</td>\n",
       "        <td>1317.000000</td>\n",
       "    </tr>\n",
       "    <tr>\n",
       "        <td>MORGAN PARK</td>\n",
       "        <td>654.200000</td>\n",
       "    </tr>\n",
       "    <tr>\n",
       "        <td>MOUNT GREENWOOD</td>\n",
       "        <td>522.750000</td>\n",
       "    </tr>\n",
       "    <tr>\n",
       "        <td>NEAR NORTH SIDE</td>\n",
       "        <td>480.285714</td>\n",
       "    </tr>\n",
       "    <tr>\n",
       "        <td>NEAR SOUTH SIDE</td>\n",
       "        <td>459.333333</td>\n",
       "    </tr>\n",
       "    <tr>\n",
       "        <td>NEAR WEST SIDE</td>\n",
       "        <td>498.437500</td>\n",
       "    </tr>\n",
       "    <tr>\n",
       "        <td>NEW CITY</td>\n",
       "        <td>609.384615</td>\n",
       "    </tr>\n",
       "    <tr>\n",
       "        <td>NORTH CENTER</td>\n",
       "        <td>1077.285714</td>\n",
       "    </tr>\n",
       "    <tr>\n",
       "        <td>NORTH LAWNDALE</td>\n",
       "        <td>321.625000</td>\n",
       "    </tr>\n",
       "    <tr>\n",
       "        <td>NORTH PARK</td>\n",
       "        <td>842.000000</td>\n",
       "    </tr>\n",
       "    <tr>\n",
       "        <td>NORWOOD PARK</td>\n",
       "        <td>808.625000</td>\n",
       "    </tr>\n",
       "    <tr>\n",
       "        <td>OAKLAND</td>\n",
       "        <td>140.000000</td>\n",
       "    </tr>\n",
       "    <tr>\n",
       "        <td>OHARE</td>\n",
       "        <td>786.000000</td>\n",
       "    </tr>\n",
       "    <tr>\n",
       "        <td>PORTAGE PARK</td>\n",
       "        <td>993.428571</td>\n",
       "    </tr>\n",
       "    <tr>\n",
       "        <td>PULLMAN</td>\n",
       "        <td>324.000000</td>\n",
       "    </tr>\n",
       "    <tr>\n",
       "        <td>RIVERDALE</td>\n",
       "        <td>386.750000</td>\n",
       "    </tr>\n",
       "    <tr>\n",
       "        <td>ROGERS PARK</td>\n",
       "        <td>678.000000</td>\n",
       "    </tr>\n",
       "    <tr>\n",
       "        <td>ROSELAND</td>\n",
       "        <td>540.000000</td>\n",
       "    </tr>\n",
       "    <tr>\n",
       "        <td>SOUTH CHICAGO</td>\n",
       "        <td>577.571428</td>\n",
       "    </tr>\n",
       "    <tr>\n",
       "        <td>SOUTH DEERING</td>\n",
       "        <td>464.750000</td>\n",
       "    </tr>\n",
       "    <tr>\n",
       "        <td>SOUTH LAWNDALE</td>\n",
       "        <td>672.409090</td>\n",
       "    </tr>\n",
       "    <tr>\n",
       "        <td>SOUTH SHORE</td>\n",
       "        <td>504.777777</td>\n",
       "    </tr>\n",
       "    <tr>\n",
       "        <td>UPTOWN</td>\n",
       "        <td>626.857142</td>\n",
       "    </tr>\n",
       "    <tr>\n",
       "        <td>WASHINGTON HEIGHTS</td>\n",
       "        <td>445.111111</td>\n",
       "    </tr>\n",
       "    <tr>\n",
       "        <td>WASHINGTON PARK</td>\n",
       "        <td>529.600000</td>\n",
       "    </tr>\n",
       "    <tr>\n",
       "        <td>WEST ELSDON</td>\n",
       "        <td>1233.333333</td>\n",
       "    </tr>\n",
       "    <tr>\n",
       "        <td>WEST ENGLEWOOD</td>\n",
       "        <td>457.384615</td>\n",
       "    </tr>\n",
       "    <tr>\n",
       "        <td>WEST GARFIELD PARK</td>\n",
       "        <td>327.750000</td>\n",
       "    </tr>\n",
       "    <tr>\n",
       "        <td>WEST LAWN</td>\n",
       "        <td>1051.750000</td>\n",
       "    </tr>\n",
       "    <tr>\n",
       "        <td>WEST PULLMAN</td>\n",
       "        <td>324.000000</td>\n",
       "    </tr>\n",
       "    <tr>\n",
       "        <td>WEST RIDGE</td>\n",
       "        <td>910.777777</td>\n",
       "    </tr>\n",
       "    <tr>\n",
       "        <td>WEST TOWN</td>\n",
       "        <td>471.450000</td>\n",
       "    </tr>\n",
       "    <tr>\n",
       "        <td>WOODLAWN</td>\n",
       "        <td>525.750000</td>\n",
       "    </tr>\n",
       "</table>"
      ],
      "text/plain": [
       "[('ALBANY PARK', Decimal('858.000000')),\n",
       " ('ARCHER HEIGHTS', Decimal('2411.500000')),\n",
       " ('ARMOUR SQUARE', Decimal('486.000000')),\n",
       " ('ASHBURN', Decimal('810.375000')),\n",
       " ('AUBURN GRESHAM', Decimal('417.500000')),\n",
       " ('AUSTIN', Decimal('475.347826')),\n",
       " ('AVALON PARK', Decimal('507.333333')),\n",
       " ('AVONDALE', Decimal('910.000000')),\n",
       " ('BELMONT CRAGIN', Decimal('1198.833333')),\n",
       " ('BEVERLY', Decimal('409.000000')),\n",
       " ('BRIDGEPORT', Decimal('633.400000')),\n",
       " ('BRIGHTON PARK', Decimal('1205.875000')),\n",
       " ('BURNSIDE', Decimal('549.000000')),\n",
       " ('CALUMET HEIGHTS', Decimal('261.333333')),\n",
       " ('CHATHAM', Decimal('560.222222')),\n",
       " ('CHICAGO LAWN', Decimal('1012.285714')),\n",
       " ('CLEARING', Decimal('521.250000')),\n",
       " ('DOUGLAS', Decimal('424.545454')),\n",
       " ('DUNNING', Decimal('761.333333')),\n",
       " ('EAST GARFIELD PARK', Decimal('410.538461')),\n",
       " ('EAST SIDE', Decimal('1061.000000')),\n",
       " ('EDGEWATER', Decimal('766.666666')),\n",
       " ('EDISON PARK', Decimal('455.000000')),\n",
       " ('ENGLEWOOD', Decimal('401.882352')),\n",
       " ('FOREST GLEN', Decimal('477.000000')),\n",
       " ('FULLER PARK', Decimal('265.500000')),\n",
       " ('GAGE PARK', Decimal('991.500000')),\n",
       " ('GARFIELD RIDGE', Decimal('910.400000')),\n",
       " ('GRAND BOULEVARD', Decimal('351.125000')),\n",
       " ('GREATER GRAND CROSSING', Decimal('405.100000')),\n",
       " ('HEGEWISCH', Decimal('481.500000')),\n",
       " ('HERMOSA', Decimal('993.750000')),\n",
       " ('HUMBOLDT PARK', Decimal('663.076923')),\n",
       " ('HYDE PARK', Decimal('482.500000')),\n",
       " ('IRVING PARK', Decimal('862.666666')),\n",
       " ('JEFFERSON PARK', Decimal('877.500000')),\n",
       " ('KENWOOD', Decimal('612.428571')),\n",
       " ('LAKE VIEW', Decimal('641.363636')),\n",
       " ('LINCOLN PARK', Decimal('802.142857')),\n",
       " ('LINCOLN SQUARE', Decimal('826.400000')),\n",
       " ('LOGAN SQUARE', Decimal('668.272727')),\n",
       " ('LOOP', Decimal('871.000000')),\n",
       " ('LOWER WEST SIDE', Decimal('659.727272')),\n",
       " ('MCKINLEY PARK', Decimal('388.000000')),\n",
       " ('MONTCLARE', Decimal('1317.000000')),\n",
       " ('MORGAN PARK', Decimal('654.200000')),\n",
       " ('MOUNT GREENWOOD', Decimal('522.750000')),\n",
       " ('NEAR NORTH SIDE', Decimal('480.285714')),\n",
       " ('NEAR SOUTH SIDE', Decimal('459.333333')),\n",
       " ('NEAR WEST SIDE', Decimal('498.437500')),\n",
       " ('NEW CITY', Decimal('609.384615')),\n",
       " ('NORTH CENTER', Decimal('1077.285714')),\n",
       " ('NORTH LAWNDALE', Decimal('321.625000')),\n",
       " ('NORTH PARK', Decimal('842.000000')),\n",
       " ('NORWOOD PARK', Decimal('808.625000')),\n",
       " ('OAKLAND', Decimal('140.000000')),\n",
       " ('OHARE', Decimal('786.000000')),\n",
       " ('PORTAGE PARK', Decimal('993.428571')),\n",
       " ('PULLMAN', Decimal('324.000000')),\n",
       " ('RIVERDALE', Decimal('386.750000')),\n",
       " ('ROGERS PARK', Decimal('678.000000')),\n",
       " ('ROSELAND', Decimal('540.000000')),\n",
       " ('SOUTH CHICAGO', Decimal('577.571428')),\n",
       " ('SOUTH DEERING', Decimal('464.750000')),\n",
       " ('SOUTH LAWNDALE', Decimal('672.409090')),\n",
       " ('SOUTH SHORE', Decimal('504.777777')),\n",
       " ('UPTOWN', Decimal('626.857142')),\n",
       " ('WASHINGTON HEIGHTS', Decimal('445.111111')),\n",
       " ('WASHINGTON PARK', Decimal('529.600000')),\n",
       " ('WEST ELSDON', Decimal('1233.333333')),\n",
       " ('WEST ENGLEWOOD', Decimal('457.384615')),\n",
       " ('WEST GARFIELD PARK', Decimal('327.750000')),\n",
       " ('WEST LAWN', Decimal('1051.750000')),\n",
       " ('WEST PULLMAN', Decimal('324.000000')),\n",
       " ('WEST RIDGE', Decimal('910.777777')),\n",
       " ('WEST TOWN', Decimal('471.450000')),\n",
       " ('WOODLAWN', Decimal('525.750000'))]"
      ]
     },
     "execution_count": 9,
     "metadata": {},
     "output_type": "execute_result"
    }
   ],
   "source": [
    "%sql select \"Community_Area_Name\", AVG(\"College_Enrollment__number_of_students_\") AS \"Average_College_Enrollment\" FROM CHICAGO_PUBLIC_SCHOOLS \\\n",
    "GROUP BY \"Community_Area_Name\";"
   ]
  },
  {
   "cell_type": "markdown",
   "metadata": {},
   "source": [
    "### Capturando a o número de escolas certificadas como \"healthy\"\n",
    "##### Tabela: CHICAGO_PUBLIC_SCHOOLS"
   ]
  },
  {
   "cell_type": "code",
   "execution_count": 10,
   "metadata": {},
   "outputs": [
    {
     "name": "stdout",
     "output_type": "stream",
     "text": [
      " * ibm_db_sa://tzf53284:***@dashdb-txn-sbox-yp-dal09-03.services.dal.bluemix.net:50000/BLUDB\n",
      "Done.\n"
     ]
    },
    {
     "data": {
      "text/html": [
       "<table>\n",
       "    <tr>\n",
       "        <th>Number of Healthy-Certified Schools</th>\n",
       "    </tr>\n",
       "    <tr>\n",
       "        <td>16</td>\n",
       "    </tr>\n",
       "</table>"
      ],
      "text/plain": [
       "[(Decimal('16'),)]"
      ]
     },
     "execution_count": 10,
     "metadata": {},
     "output_type": "execute_result"
    }
   ],
   "source": [
    "%sql SELECT COUNT(*) as \"Number of Healthy-Certified Schools\" FROM CHICAGO_PUBLIC_SCHOOLS WHERE \"Healthy_Schools_Certified_\" = True"
   ]
  },
  {
   "cell_type": "markdown",
   "metadata": {},
   "source": [
    "### Capturando uma lista com as top 10 comunidades com o maior número de escolas em ordem decrescente\n",
    "##### Tabela: CHICAGO_PUBLIC_SCHOOLS"
   ]
  },
  {
   "cell_type": "code",
   "execution_count": 11,
   "metadata": {},
   "outputs": [
    {
     "name": "stdout",
     "output_type": "stream",
     "text": [
      " * ibm_db_sa://tzf53284:***@dashdb-txn-sbox-yp-dal09-03.services.dal.bluemix.net:50000/BLUDB\n",
      "Done.\n"
     ]
    },
    {
     "data": {
      "text/html": [
       "<table>\n",
       "    <tr>\n",
       "        <th>Community_Area_Name</th>\n",
       "        <th>Number_of_Schools</th>\n",
       "    </tr>\n",
       "    <tr>\n",
       "        <td>AUSTIN</td>\n",
       "        <td>23</td>\n",
       "    </tr>\n",
       "    <tr>\n",
       "        <td>SOUTH LAWNDALE</td>\n",
       "        <td>22</td>\n",
       "    </tr>\n",
       "    <tr>\n",
       "        <td>WEST TOWN</td>\n",
       "        <td>20</td>\n",
       "    </tr>\n",
       "    <tr>\n",
       "        <td>ENGLEWOOD</td>\n",
       "        <td>17</td>\n",
       "    </tr>\n",
       "    <tr>\n",
       "        <td>NEAR WEST SIDE</td>\n",
       "        <td>16</td>\n",
       "    </tr>\n",
       "    <tr>\n",
       "        <td>NORTH LAWNDALE</td>\n",
       "        <td>16</td>\n",
       "    </tr>\n",
       "    <tr>\n",
       "        <td>EAST GARFIELD PARK</td>\n",
       "        <td>13</td>\n",
       "    </tr>\n",
       "    <tr>\n",
       "        <td>HUMBOLDT PARK</td>\n",
       "        <td>13</td>\n",
       "    </tr>\n",
       "    <tr>\n",
       "        <td>NEW CITY</td>\n",
       "        <td>13</td>\n",
       "    </tr>\n",
       "    <tr>\n",
       "        <td>ROSELAND</td>\n",
       "        <td>13</td>\n",
       "    </tr>\n",
       "</table>"
      ],
      "text/plain": [
       "[('AUSTIN', Decimal('23')),\n",
       " ('SOUTH LAWNDALE', Decimal('22')),\n",
       " ('WEST TOWN', Decimal('20')),\n",
       " ('ENGLEWOOD', Decimal('17')),\n",
       " ('NEAR WEST SIDE', Decimal('16')),\n",
       " ('NORTH LAWNDALE', Decimal('16')),\n",
       " ('EAST GARFIELD PARK', Decimal('13')),\n",
       " ('HUMBOLDT PARK', Decimal('13')),\n",
       " ('NEW CITY', Decimal('13')),\n",
       " ('ROSELAND', Decimal('13'))]"
      ]
     },
     "execution_count": 11,
     "metadata": {},
     "output_type": "execute_result"
    }
   ],
   "source": [
    "### Problem 4\n",
    "%sql select \"Community_Area_Name\", count(\"Community_Area_Name\") as \"Number_of_Schools\" from CHICAGO_PUBLIC_SCHOOLS \\\n",
    "group by \"Community_Area_Name\" order by count(*) desc nulls last limit 10"
   ]
  },
  {
   "cell_type": "markdown",
   "metadata": {},
   "source": [
    "### Recuperando a quantidade de crimes que ocorreram em uma \"Gas Station\"\n",
    "##### Tabela: CHICAGO_CRIME_DATA"
   ]
  },
  {
   "cell_type": "code",
   "execution_count": 12,
   "metadata": {},
   "outputs": [
    {
     "name": "stdout",
     "output_type": "stream",
     "text": [
      " * ibm_db_sa://tzf53284:***@dashdb-txn-sbox-yp-dal09-03.services.dal.bluemix.net:50000/BLUDB\n",
      "Done.\n"
     ]
    },
    {
     "data": {
      "text/html": [
       "<table>\n",
       "    <tr>\n",
       "        <th>Number of Observations with Gas Station as Location_Description</th>\n",
       "    </tr>\n",
       "    <tr>\n",
       "        <td>6</td>\n",
       "    </tr>\n",
       "</table>"
      ],
      "text/plain": [
       "[(Decimal('6'),)]"
      ]
     },
     "execution_count": 12,
     "metadata": {},
     "output_type": "execute_result"
    }
   ],
   "source": [
    "%sql SELECT COUNT(*) as \"Number of Observations with Gas Station as Location_Description\" FROM CHICAGO_CRIME_DATA WHERE \"Location_Description\"='GAS STATION'"
   ]
  },
  {
   "cell_type": "markdown",
   "metadata": {},
   "source": [
    "### Recuperando o número de crimes relacionados a veículos\n",
    "##### Tabela: CHICAGO_CRIME_DATA"
   ]
  },
  {
   "cell_type": "code",
   "execution_count": 13,
   "metadata": {},
   "outputs": [
    {
     "name": "stdout",
     "output_type": "stream",
     "text": [
      " * ibm_db_sa://tzf53284:***@dashdb-txn-sbox-yp-dal09-03.services.dal.bluemix.net:50000/BLUDB\n",
      "Done.\n"
     ]
    },
    {
     "data": {
      "text/html": [
       "<table>\n",
       "    <tr>\n",
       "        <th>Number of Crimes related to Motor Vehicles</th>\n",
       "    </tr>\n",
       "    <tr>\n",
       "        <td>24</td>\n",
       "    </tr>\n",
       "</table>"
      ],
      "text/plain": [
       "[(Decimal('24'),)]"
      ]
     },
     "execution_count": 13,
     "metadata": {},
     "output_type": "execute_result"
    }
   ],
   "source": [
    "%sql SELECT COUNT(*) as \"Number of Crimes related to Motor Vehicles\" FROM CHICAGO_CRIME_DATA WHERE \"Primary_Type\"='MOTOR VEHICLE THEFT'"
   ]
  },
  {
   "cell_type": "markdown",
   "metadata": {},
   "source": [
    "### Capturando a média de presença de alunos por comunidade de acordo com o \"Hardship Index\"\n",
    "##### Tabelas: CHICAGO_PUBLIC_SCHOOLS & CENSUS_DATA"
   ]
  },
  {
   "cell_type": "code",
   "execution_count": 45,
   "metadata": {},
   "outputs": [
    {
     "name": "stdout",
     "output_type": "stream",
     "text": [
      " * ibm_db_sa://tzf53284:***@dashdb-txn-sbox-yp-dal09-03.services.dal.bluemix.net:50000/BLUDB\n",
      "Done.\n"
     ]
    },
    {
     "data": {
      "text/html": [
       "<table>\n",
       "    <tr>\n",
       "        <th>Community_Area_Name</th>\n",
       "        <th>Min_Avg_Student_Attendance</th>\n",
       "        <th>Hardship_Index</th>\n",
       "    </tr>\n",
       "    <tr>\n",
       "        <td>SOUTH LAWNDALE</td>\n",
       "        <td>86.1%</td>\n",
       "        <td>96</td>\n",
       "    </tr>\n",
       "</table>"
      ],
      "text/plain": [
       "[('SOUTH LAWNDALE', '86.1%', 96)]"
      ]
     },
     "execution_count": 45,
     "metadata": {},
     "output_type": "execute_result"
    }
   ],
   "source": [
    "%sql SELECT CHICAGO_PUBLIC_SCHOOLS.\"Community_Area_Name\", MIN(CHICAGO_PUBLIC_SCHOOLS.\"Average_Student_Attendance\") as \"Min_Avg_Student_Attendance\", CENSUS_DATA.\"HARDSHIP_INDEX\" as \"Hardship_Index\" \\\n",
    "FROM \"CHICAGO_PUBLIC_SCHOOLS\" \\\n",
    "INNER JOIN \"CENSUS_DATA\" \\\n",
    "ON CHICAGO_PUBLIC_SCHOOLS.\"Community_Area_Number\"=CENSUS_DATA.\"Community_Area_Number\" \\\n",
    "WHERE CENSUS_DATA.\"HARDSHIP_INDEX\" = 96 \\\n",
    "GROUP BY CHICAGO_PUBLIC_SCHOOLS.\"Community_Area_Name\", CENSUS_DATA.\"HARDSHIP_INDEX\""
   ]
  }
 ],
 "metadata": {
  "kernelspec": {
   "display_name": "Python 3.5",
   "language": "python",
   "name": "python3"
  },
  "language_info": {
   "codemirror_mode": {
    "name": "ipython",
    "version": 3
   },
   "file_extension": ".py",
   "mimetype": "text/x-python",
   "name": "python",
   "nbconvert_exporter": "python",
   "pygments_lexer": "ipython3",
   "version": "3.5.5"
  }
 },
 "nbformat": 4,
 "nbformat_minor": 1
}
